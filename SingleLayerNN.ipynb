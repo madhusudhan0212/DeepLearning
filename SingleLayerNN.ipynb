{
 "cells": [
  {
   "cell_type": "code",
   "execution_count": 2,
   "metadata": {
    "collapsed": true,
    "deletable": true,
    "editable": true
   },
   "outputs": [],
   "source": [
    "import tensorflow as tf"
   ]
  },
  {
   "cell_type": "code",
   "execution_count": 5,
   "metadata": {
    "collapsed": false,
    "deletable": true,
    "editable": true
   },
   "outputs": [
    {
     "name": "stdout",
     "output_type": "stream",
     "text": [
      "b'hello world'\n"
     ]
    }
   ],
   "source": [
    "hw = tf.constant(\"hello world\")\n",
    "\n",
    "with tf.Session() as sess:\n",
    "    print(sess.run(hw))\n",
    "    "
   ]
  },
  {
   "cell_type": "code",
   "execution_count": 8,
   "metadata": {
    "collapsed": false,
    "deletable": true,
    "editable": true
   },
   "outputs": [
    {
     "name": "stdout",
     "output_type": "stream",
     "text": [
      "Testing Variables\n"
     ]
    }
   ],
   "source": [
    "var = tf.placeholder(tf.string)\n",
    "\n",
    "with tf.Session() as sess:\n",
    "    output = sess.run(var, feed_dict = {var:'Testing Variables'})\n",
    "    print(output)"
   ]
  },
  {
   "cell_type": "code",
   "execution_count": 9,
   "metadata": {
    "collapsed": false,
    "deletable": true,
    "editable": true
   },
   "outputs": [
    {
     "name": "stdout",
     "output_type": "stream",
     "text": [
      "4\n"
     ]
    }
   ],
   "source": [
    "x = tf.constant(10)\n",
    "y = tf.constant(2)\n",
    "z = tf.subtract(tf.cast(tf.divide(x,y),tf.int32) , tf.constant(1))\n",
    "\n",
    "with tf.Session() as sess:\n",
    "    output = sess.run(z)\n",
    "    print(output)"
   ]
  },
  {
   "cell_type": "code",
   "execution_count": 4,
   "metadata": {
    "collapsed": false,
    "deletable": true,
    "editable": true
   },
   "outputs": [
    {
     "name": "stdout",
     "output_type": "stream",
     "text": [
      "file exists\n"
     ]
    }
   ],
   "source": [
    "import os\n",
    "\n",
    "if(os.path.isfile('data/notMNIST.pickle')):\n",
    "    print('file exists')\n",
    "else:\n",
    "    print('file doesn\\'t exists')"
   ]
  },
  {
   "cell_type": "code",
   "execution_count": 3,
   "metadata": {
    "collapsed": false,
    "deletable": true,
    "editable": true
   },
   "outputs": [
    {
     "data": {
      "text/plain": [
       "dict_keys(['valid_labels', 'valid_dataset', 'train_labels', 'test_dataset', 'test_labels', 'train_dataset'])"
      ]
     },
     "execution_count": 3,
     "metadata": {},
     "output_type": "execute_result"
    }
   ],
   "source": [
    "import pickle\n",
    "\n",
    "with open('data/notMNIST.pickle','rb') as f:\n",
    "    pickle_data = pickle.load(f)\n",
    "\n",
    "pickle_data.keys()"
   ]
  },
  {
   "cell_type": "code",
   "execution_count": 10,
   "metadata": {
    "collapsed": true,
    "deletable": true,
    "editable": true
   },
   "outputs": [],
   "source": [
    "train_dataset = pickle_data['train_dataset']\n",
    "test_labels = pickle_data['test_labels']\n",
    "valid_labels = pickle_data['valid_labels']\n",
    "train_labels = pickle_data['train_labels']\n",
    "valid_dataset = pickle_data['valid_dataset']\n",
    "test_dataset = pickle_data['test_dataset']\n",
    "del pickle_data # save memory"
   ]
  },
  {
   "cell_type": "code",
   "execution_count": 31,
   "metadata": {
    "collapsed": false,
    "deletable": true,
    "editable": true
   },
   "outputs": [
    {
     "data": {
      "text/plain": [
       "(100, 784)"
      ]
     },
     "execution_count": 31,
     "metadata": {},
     "output_type": "execute_result"
    }
   ],
   "source": [
    "\n",
    "train_dataset[0:100,:].shape"
   ]
  },
  {
   "cell_type": "code",
   "execution_count": 103,
   "metadata": {
    "collapsed": false,
    "deletable": true,
    "editable": true
   },
   "outputs": [],
   "source": [
    "import tensorflow as tf\n",
    "\n",
    "epochs = 15\n",
    "learning_rate = 0.1\n",
    "batch_size=50\n",
    "\n",
    "features_size = train_dataset.shape[1]\n",
    "labels_size = train_labels.shape[1]\n",
    "\n",
    "weights = tf.Variable(tf.truncated_normal([features_size,labels_size]))\n",
    "bias = tf.Variable(tf.zeros([labels_size]))\n",
    "\n",
    "features = tf.placeholder(tf.float32,[None,features_size])\n",
    "labels = tf.placeholder(tf.float32,[None,labels_size])\n",
    "\n",
    "logits = tf.matmul(features,weights) + bias\n",
    "prediction = tf.nn.softmax(logits)\n",
    "\n",
    "cross_entropy = -tf.reduce_sum(labels * tf.log(prediction) , reduction_indices = 1  )\n",
    "\n",
    "loss = tf.reduce_mean(cross_entropy)\n",
    "optimizer = tf.train.GradientDescentOptimizer(learning_rate).minimize(loss)\n",
    "\n",
    "accuracy = tf.reduce_mean(tf.cast(tf.equal(tf.argmax(prediction,1),tf.argmax(labels,1)),dtype=tf.float32)) * 100\n",
    "\n",
    "init = tf.global_variables_initializer()\n",
    "\n",
    "def batch_entries(features,labels):\n",
    "    batches = []\n",
    "    feature_size=features.shape[0]\n",
    "    \n",
    "    start_index=0\n",
    "    while(start_index != feature_size):\n",
    "        end_index = min(start_index + batch_size, feature_size)\n",
    "        batches.append([features[start_index:end_index,:] ,labels[start_index:end_index,:]])\n",
    "        start_index = end_index\n",
    "    \n",
    "    return batches\n",
    "\n"
   ]
  },
  {
   "cell_type": "code",
   "execution_count": 104,
   "metadata": {
    "collapsed": false,
    "deletable": true,
    "editable": true
   },
   "outputs": [
    {
     "name": "stdout",
     "output_type": "stream",
     "text": [
      "Validation Accuracy after epoch:  0  is :  76.2533\n",
      "Validation Accuracy after epoch:  1  is :  77.5733\n",
      "Validation Accuracy after epoch:  2  is :  78.1333\n",
      "Validation Accuracy after epoch:  3  is :  78.5733\n",
      "Validation Accuracy after epoch:  4  is :  79.0933\n",
      "Validation Accuracy after epoch:  5  is :  79.4\n",
      "Validation Accuracy after epoch:  6  is :  79.6\n",
      "Validation Accuracy after epoch:  7  is :  79.92\n",
      "Validation Accuracy after epoch:  8  is :  80.1467\n",
      "Validation Accuracy after epoch:  9  is :  80.4667\n",
      "Validation Accuracy after epoch:  10  is :  80.64\n",
      "Validation Accuracy after epoch:  11  is :  80.84\n",
      "Validation Accuracy after epoch:  12  is :  80.9333\n",
      "Validation Accuracy after epoch:  13  is :  81.08\n",
      "Validation Accuracy after epoch:  14  is :  81.1733\n",
      "Test Accuracy is :  88.2\n"
     ]
    }
   ],
   "source": [
    "valid_feed = {features: valid_dataset , labels : valid_labels}\n",
    "test_feed = {features: test_dataset , labels : test_labels}\n",
    "with tf.Session() as sess:\n",
    "    sess.run(init)\n",
    "    train_acc = 0.0\n",
    "    valid_acc =0.0\n",
    "    Test_acc = 0.0\n",
    "    for i in range(epochs):\n",
    "        for data in batch_entries(train_dataset,train_labels):\n",
    "            opt,l,train_acc = sess.run([optimizer,loss,accuracy],feed_dict={features: data[0] , labels : data[1]})\n",
    "        #print('Train Accuracy after epoch: ',i,' is : ',train_acc)\n",
    "        valid_acc = sess.run(accuracy,feed_dict=valid_feed)\n",
    "        print('Validation Accuracy after epoch: ',i,' is : ',valid_acc)\n",
    "    Test_acc = sess.run(accuracy,feed_dict=test_feed) \n",
    "    print('Test Accuracy is : ',Test_acc)\n",
    "    "
   ]
  }
 ],
 "metadata": {
  "kernelspec": {
   "display_name": "Python 3",
   "language": "python",
   "name": "python3"
  },
  "language_info": {
   "codemirror_mode": {
    "name": "ipython",
    "version": 3
   },
   "file_extension": ".py",
   "mimetype": "text/x-python",
   "name": "python",
   "nbconvert_exporter": "python",
   "pygments_lexer": "ipython3",
   "version": "3.5.2"
  },
  "widgets": {
   "state": {},
   "version": "1.1.2"
  }
 },
 "nbformat": 4,
 "nbformat_minor": 2
}
