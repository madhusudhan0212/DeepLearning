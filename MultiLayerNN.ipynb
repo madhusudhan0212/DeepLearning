{
 "cells": [
  {
   "cell_type": "code",
   "execution_count": 1,
   "metadata": {
    "collapsed": false,
    "deletable": true,
    "editable": true
   },
   "outputs": [
    {
     "name": "stdout",
     "output_type": "stream",
     "text": [
      "file exists\n"
     ]
    }
   ],
   "source": [
    "import os\n",
    "\n",
    "if(os.path.isfile('data/notMNIST.pickle')):\n",
    "    print('file exists')\n",
    "else:\n",
    "    print('file doesn\\'t exists')"
   ]
  },
  {
   "cell_type": "code",
   "execution_count": 3,
   "metadata": {
    "collapsed": false,
    "deletable": true,
    "editable": true
   },
   "outputs": [
    {
     "data": {
      "text/plain": [
       "dict_keys(['valid_dataset', 'train_dataset', 'train_labels', 'test_labels', 'test_dataset', 'valid_labels'])"
      ]
     },
     "execution_count": 3,
     "metadata": {},
     "output_type": "execute_result"
    }
   ],
   "source": [
    "import pickle\n",
    "\n",
    "with open('data/notMNIST.pickle','rb') as f:\n",
    "    pickle_data = pickle.load(f)\n",
    "\n",
    "pickle_data.keys()"
   ]
  },
  {
   "cell_type": "code",
   "execution_count": 3,
   "metadata": {
    "collapsed": true,
    "deletable": true,
    "editable": true
   },
   "outputs": [],
   "source": [
    "train_dataset = pickle_data['train_dataset']\n",
    "test_labels = pickle_data['test_labels']\n",
    "valid_labels = pickle_data['valid_labels']\n",
    "train_labels = pickle_data['train_labels']\n",
    "valid_dataset = pickle_data['valid_dataset']\n",
    "test_dataset = pickle_data['test_dataset']\n",
    "del pickle_data # save memory"
   ]
  },
  {
   "cell_type": "code",
   "execution_count": 26,
   "metadata": {
    "collapsed": false,
    "deletable": true,
    "editable": true
   },
   "outputs": [],
   "source": [
    "import tensorflow as tf\n",
    "\n",
    "epochs = 30\n",
    "learning_rate = 0.01\n",
    "batch_size=128\n",
    "\n",
    "features_size = train_dataset.shape[1]\n",
    "labels_size = train_labels.shape[1]\n",
    "\n",
    "features = tf.placeholder(tf.float32,[None,features_size])\n",
    "labels = tf.placeholder(tf.float32,[None,labels_size])\n",
    "\n",
    "\n",
    "#  3 layer deep neural network\n",
    "layer1_hidden_units = 300\n",
    "layer2_hidden_units = 100\n",
    "output_layer = labels_size\n",
    "\n",
    "layer1_weights = tf.Variable(tf.truncated_normal([features_size,layer1_hidden_units]))\n",
    "layer1_bias = tf.Variable(tf.truncated_normal([layer1_hidden_units]))\n",
    "\n",
    "layer2_weights = tf.Variable(tf.truncated_normal([layer1_hidden_units,layer2_hidden_units]))\n",
    "layer2_bias = tf.Variable(tf.truncated_normal([layer2_hidden_units]))\n",
    "\n",
    "layer3_weights = tf.Variable(tf.truncated_normal([layer2_hidden_units,output_layer]))\n",
    "layer3_bias = tf.Variable(tf.zeros([output_layer]))\n",
    "\n",
    "\n",
    "# forward prop with relu activations\n",
    "\n",
    "layer1_output = tf.nn.relu(tf.matmul(features,layer1_weights) + layer1_bias)\n",
    "layer2_output = tf.nn.relu(tf.matmul(layer1_output,layer2_weights) + layer2_bias)\n",
    "logits = tf.matmul(layer2_output,layer3_weights) + layer3_bias\n",
    "\n",
    "\n",
    "reg_lamda = 0.01\n",
    "loss = tf.reduce_mean(tf.nn.softmax_cross_entropy_with_logits(logits=logits,labels=labels)\n",
    "                         + reg_lamda * tf.nn.l2_loss(layer1_weights)\n",
    "                         + reg_lamda * tf.nn.l2_loss(layer1_bias)\n",
    "                         + reg_lamda * tf.nn.l2_loss(layer2_weights)\n",
    "                         + reg_lamda * tf.nn.l2_loss(layer2_bias)\n",
    "                         + reg_lamda * tf.nn.l2_loss(layer3_weights)\n",
    "                         + reg_lamda * tf.nn.l2_loss(layer3_bias))\n",
    "\n",
    "optimizer = tf.train.GradientDescentOptimizer(learning_rate).minimize(loss)\n",
    "\n",
    "accuracy = tf.reduce_mean(tf.cast(tf.equal(tf.argmax(logits,1),tf.argmax(labels,1)),dtype=tf.float32)) * 100\n",
    "\n",
    "init = tf.global_variables_initializer()\n",
    "\n",
    "def batch_entries(features,labels):\n",
    "    batches = []\n",
    "    feature_size=features.shape[0]\n",
    "    \n",
    "    start_index=0\n",
    "    while(start_index != feature_size):\n",
    "        end_index = min(start_index + batch_size, feature_size)\n",
    "        batches.append([features[start_index:end_index,:] ,labels[start_index:end_index,:]])\n",
    "        start_index = end_index\n",
    "    \n",
    "    return batches\n",
    "\n"
   ]
  },
  {
   "cell_type": "code",
   "execution_count": 27,
   "metadata": {
    "collapsed": false,
    "deletable": true,
    "editable": true
   },
   "outputs": [
    {
     "name": "stdout",
     "output_type": "stream",
     "text": [
      "Validation Accuracy after epoch:  0  is :  23.4533\n",
      "Validation Accuracy after epoch:  1  is :  36.3467\n",
      "Validation Accuracy after epoch:  2  is :  39.8\n",
      "Validation Accuracy after epoch:  3  is :  44.8267\n",
      "Validation Accuracy after epoch:  4  is :  51.9867\n",
      "Validation Accuracy after epoch:  5  is :  59.1733\n",
      "Validation Accuracy after epoch:  6  is :  66.5867\n",
      "Validation Accuracy after epoch:  7  is :  69.7333\n",
      "Validation Accuracy after epoch:  8  is :  72.88\n",
      "Validation Accuracy after epoch:  9  is :  76.36\n",
      "Validation Accuracy after epoch:  10  is :  77.68\n",
      "Validation Accuracy after epoch:  11  is :  78.68\n",
      "Validation Accuracy after epoch:  12  is :  79.4933\n",
      "Validation Accuracy after epoch:  13  is :  80.16\n",
      "Validation Accuracy after epoch:  14  is :  80.6267\n",
      "Validation Accuracy after epoch:  15  is :  81.32\n",
      "Validation Accuracy after epoch:  16  is :  81.9467\n",
      "Validation Accuracy after epoch:  17  is :  82.4\n",
      "Validation Accuracy after epoch:  18  is :  82.8\n",
      "Validation Accuracy after epoch:  19  is :  83.2133\n",
      "Validation Accuracy after epoch:  20  is :  83.3067\n",
      "Validation Accuracy after epoch:  21  is :  83.44\n",
      "Validation Accuracy after epoch:  22  is :  83.5467\n",
      "Validation Accuracy after epoch:  23  is :  83.7067\n",
      "Validation Accuracy after epoch:  24  is :  83.9467\n",
      "Validation Accuracy after epoch:  25  is :  83.8933\n",
      "Validation Accuracy after epoch:  26  is :  83.92\n",
      "Validation Accuracy after epoch:  27  is :  83.9067\n",
      "Validation Accuracy after epoch:  28  is :  83.8533\n",
      "Validation Accuracy after epoch:  29  is :  83.9067\n",
      "Test Accuracy is :  90.63\n"
     ]
    }
   ],
   "source": [
    "valid_feed = {features: valid_dataset , labels : valid_labels}\n",
    "test_feed = {features: test_dataset , labels : test_labels}\n",
    "with tf.Session() as sess:\n",
    "    sess.run(init)\n",
    "    train_acc = 0.0\n",
    "    valid_acc =0.0\n",
    "    Test_acc = 0.0\n",
    "    for i in range(epochs):\n",
    "        for data in batch_entries(train_dataset,train_labels):\n",
    "            opt,l,train_acc = sess.run([optimizer,loss,accuracy],feed_dict={features: data[0] , labels : data[1]})\n",
    "            #print('Train Accuracy after epoch: ',i,'loss is : ',l)\n",
    "        valid_acc = sess.run(accuracy,feed_dict=valid_feed)\n",
    "        print('Validation Accuracy after epoch: ',i,' is : ',valid_acc)\n",
    "    Test_acc = sess.run(accuracy,feed_dict=test_feed) \n",
    "    print('Test Accuracy is : ',Test_acc)\n",
    "    "
   ]
  },
  {
   "cell_type": "code",
   "execution_count": null,
   "metadata": {
    "collapsed": true,
    "deletable": true,
    "editable": true
   },
   "outputs": [],
   "source": []
  }
 ],
 "metadata": {
  "kernelspec": {
   "display_name": "Python 3",
   "language": "python",
   "name": "python3"
  },
  "language_info": {
   "codemirror_mode": {
    "name": "ipython",
    "version": 3
   },
   "file_extension": ".py",
   "mimetype": "text/x-python",
   "name": "python",
   "nbconvert_exporter": "python",
   "pygments_lexer": "ipython3",
   "version": "3.5.2"
  },
  "widgets": {
   "state": {},
   "version": "1.1.2"
  }
 },
 "nbformat": 4,
 "nbformat_minor": 2
}
